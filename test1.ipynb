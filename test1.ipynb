{
 "cells": [
  {
   "cell_type": "code",
   "execution_count": 187,
   "metadata": {},
   "outputs": [
    {
     "name": "stdout",
     "output_type": "stream",
     "text": [
      "{'left_top': [100, 100], 'right_bottom': [200, 300]}\n"
     ]
    }
   ],
   "source": [
    "import json\n",
    "import cv2\n",
    "import numpy as np\n",
    "filename = \"boxes.json\"\n",
    "with open(filename) as f:\n",
    "    boxlist = json.load(f);\n",
    "    for boxdict in boxlist:\n",
    "        if boxdict == 'boxes':\n",
    "            for box in boxlist[boxdict]:\n",
    "                if box['name'] == 'box_b' and box['rectangle'] != None:\n",
    "                    print(box['rectangle'])\n",
    "                    \n",
    "                    \n",
    "def Transformer(Image1, Image2, box, option=0):\n",
    "    \"\"\"\n",
    "    Image1: Original image;\n",
    "    Image2: Fill image;\n",
    "    option: Fill mode,\n",
    "        0:Maintain the original proportional fill mode, 1:Stretch fill mode;default:0;\n",
    "    \"\"\"\n",
    "    \n",
    "    def decode(Image, box, option):\n",
    "        size  = [box[1][0]-box[0][0], box[1][1]-box[0][1]]\n",
    "        Imagesize = Image.shape[:2]\n",
    "        if option == 1:\n",
    "            Image = cv2.resize(Image, (size[1],size[0]))\n",
    "        else:\n",
    "            if size[0]/size[1] > Imagesize[0]/Imagesize[1]:\n",
    "                Image = cv2.resize(Image, (int((size[0]/Imagesize[0])*Imagesize[1]),size[0]))\n",
    "            else:\n",
    "                Image = cv2.resize(Image, (size[0],int((size[0]/Imagesize[0])*Imagesize[1])))\n",
    "        return Image\n",
    "    img1 = cv2.imread(Image1)\n",
    "    img2 = cv2.imread(Image2)\n",
    "    img2 = decode(img2, box, option)\n",
    "    shape = img2.shape\n",
    "    img1[box[0][0]:box[0][0]+shape[0], box[0][1]:box[0][1]+shape[1]] = img2\n",
    "    cv2.imshow('result.jpg',img1)\n",
    "    cv2.waitKey(0) "
   ]
  },
  {
   "cell_type": "code",
   "execution_count": null,
   "metadata": {},
   "outputs": [],
   "source": [
    "img1 = \"img_0.jpg\"\n",
    "img2 = \"img_1.jpg\"\n",
    "box = [[100,50], [200, 100]]\n",
    "option = 0\n",
    "Transformer(img1, img2, box, option)"
   ]
  },
  {
   "cell_type": "code",
   "execution_count": null,
   "metadata": {},
   "outputs": [],
   "source": [
    "{'boxes': [{'name': 'box_a', 'rectangle': {'left_top': [0, 10], 'right_bottom': [200, 300]}}, {'name': 'box_b', 'rectangle': {'left_top': [100, 100], 'right_bottom': [200, 300]}}]}"
   ]
  }
 ],
 "metadata": {
  "kernelspec": {
   "display_name": "Python 3",
   "language": "python",
   "name": "python3"
  },
  "language_info": {
   "codemirror_mode": {
    "name": "ipython",
    "version": 3
   },
   "file_extension": ".py",
   "mimetype": "text/x-python",
   "name": "python",
   "nbconvert_exporter": "python",
   "pygments_lexer": "ipython3",
   "version": "3.8.3"
  }
 },
 "nbformat": 4,
 "nbformat_minor": 4
}
